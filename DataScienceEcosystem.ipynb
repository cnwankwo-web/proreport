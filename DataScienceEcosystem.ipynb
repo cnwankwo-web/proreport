{
 "cells": [
  {
   "cell_type": "markdown",
   "id": "e386e49a-feaa-49d6-9e1e-495d7ad8d7e1",
   "metadata": {},
   "source": [
    "Data Science Tools and Ecosystem\n"
   ]
  },
  {
   "cell_type": "markdown",
   "id": "d2aa6202-d275-4a16-8996-8b417421b61e",
   "metadata": {},
   "source": [
    "In this notebook, Data Science Tools and Ecosystem are summarized.\n"
   ]
  },
  {
   "cell_type": "markdown",
   "id": "08c9c7fd-ce60-4632-b412-8709b35cf12e",
   "metadata": {},
   "source": [
    "**Objectives**\n",
    "- List popular languages for Data Science\n",
    "- List of libraries that are commonly used by Data Scientists\n",
    "- Creation of a markdown cell with a table of Data Science tools\n",
    "- Creation of markdown cell introducing arithmetic expression examples"
   ]
  },
  {
   "cell_type": "markdown",
   "id": "296e5484-7cc2-4db6-8d2e-f68640a68361",
   "metadata": {},
   "source": [
    "Some of the popular languages that Data Scientists use are:\n",
    "1. Python\n",
    "2. R\n",
    "3. SQL\n",
    "4. Julia\n",
    "5. Scala\n",
    "6. Java\n",
    "7. MATLAB"
   ]
  },
  {
   "cell_type": "markdown",
   "id": "c99bc7b6-02f1-44f4-92e0-ee3edc342d4f",
   "metadata": {},
   "source": []
  },
  {
   "cell_type": "markdown",
   "id": "ed3f04af-d459-4e42-954b-5b9dcd49b6d7",
   "metadata": {},
   "source": [
    "Some of the commonly used libraries used by Data Scientists include:\n",
    "1. NumPy\n",
    "2. Keras\n",
    "3. Pandas\n",
    "4. PyTorch\n",
    "5. SciPy\n",
    "6. TensorFlow\n",
    "7. Matplotlib"
   ]
  },
  {
   "cell_type": "markdown",
   "id": "58b0328f-9e19-4fba-be2f-495962d06c45",
   "metadata": {},
   "source": [
    "| Data Science Tools|\n",
    "|-------------------|\n",
    "| RStudio           |\n",
    "| Apache            |\n",
    "| TensorFlow        |\n"
   ]
  },
  {
   "cell_type": "markdown",
   "id": "247860bb-b42f-4799-9696-3c2044a19da0",
   "metadata": {},
   "source": [
    "Below are a few examples of evaluating arithmetic expressions in Python."
   ]
  },
  {
   "cell_type": "code",
   "execution_count": 1,
   "id": "2d8f8b3e-f9ea-400f-beec-4c71b42c7004",
   "metadata": {
    "tags": []
   },
   "outputs": [
    {
     "ename": "SyntaxError",
     "evalue": "invalid syntax (225632758.py, line 2)",
     "output_type": "error",
     "traceback": [
      "\u001b[1;36m  Cell \u001b[1;32mIn[1], line 2\u001b[1;36m\u001b[0m\n\u001b[1;33m    This a simple arithmetic expression to multiply them add integers\u001b[0m\n\u001b[1;37m         ^\u001b[0m\n\u001b[1;31mSyntaxError\u001b[0m\u001b[1;31m:\u001b[0m invalid syntax\n"
     ]
    }
   ],
   "source": [
    "(3*4)+5\n",
    "This a simple arithmetic expression to multiply them add integers"
   ]
  },
  {
   "cell_type": "code",
   "execution_count": null,
   "id": "ecc75de1-e796-469e-b83d-4ea4f21b7fae",
   "metadata": {},
   "outputs": [],
   "source": []
  },
  {
   "cell_type": "code",
   "execution_count": 1,
   "id": "831f0180-3258-4627-9a87-3669717480d0",
   "metadata": {
    "tags": []
   },
   "outputs": [
    {
     "ename": "SyntaxError",
     "evalue": "invalid syntax (225632758.py, line 2)",
     "output_type": "error",
     "traceback": [
      "\u001b[1;36m  Cell \u001b[1;32mIn[1], line 2\u001b[1;36m\u001b[0m\n\u001b[1;33m    This a simple arithmetic expression to multiply them add integers\u001b[0m\n\u001b[1;37m         ^\u001b[0m\n\u001b[1;31mSyntaxError\u001b[0m\u001b[1;31m:\u001b[0m invalid syntax\n"
     ]
    }
   ],
   "source": [
    "(3*4)+5\n",
    "This a simple arithmetic expression to multiply them add integers"
   ]
  },
  {
   "cell_type": "code",
   "execution_count": 2,
   "id": "7e04367b-d207-450b-8b46-e76915642bc0",
   "metadata": {
    "tags": []
   },
   "outputs": [
    {
     "ename": "SyntaxError",
     "evalue": "invalid syntax (320891174.py, line 1)",
     "output_type": "error",
     "traceback": [
      "\u001b[1;36m  Cell \u001b[1;32mIn[2], line 1\u001b[1;36m\u001b[0m\n\u001b[1;33m    This a simple arithmetic expression to multiply them add integers.\u001b[0m\n\u001b[1;37m         ^\u001b[0m\n\u001b[1;31mSyntaxError\u001b[0m\u001b[1;31m:\u001b[0m invalid syntax\n"
     ]
    }
   ],
   "source": [
    "This a simple arithmetic expression to multiply them add integers.\n",
    "(3*4)+5"
   ]
  },
  {
   "cell_type": "markdown",
   "id": "3e4baf4b-8ad7-406a-aa06-ed0596017629",
   "metadata": {},
   "source": [
    "# This is a simple arthmetic expression to multiply then add integers.\n",
    "(3*4)+5"
   ]
  },
  {
   "cell_type": "code",
   "execution_count": 3,
   "id": "b1d93862-6f73-48c0-944e-fab319787646",
   "metadata": {
    "tags": []
   },
   "outputs": [
    {
     "data": {
      "text/plain": [
       "17"
      ]
     },
     "execution_count": 3,
     "metadata": {},
     "output_type": "execute_result"
    }
   ],
   "source": [
    "# This is a simple arithmetic expression to multiply them add integers\n",
    "(3*4)+5"
   ]
  },
  {
   "cell_type": "code",
   "execution_count": 4,
   "id": "78ba933f-139d-4f5b-b199-8109f90cc8c6",
   "metadata": {
    "tags": []
   },
   "outputs": [
    {
     "data": {
      "text/plain": [
       "3.3333333333333335"
      ]
     },
     "execution_count": 4,
     "metadata": {},
     "output_type": "execute_result"
    }
   ],
   "source": [
    "# This will convert 200 minutes to hours by dividing by 60\n",
    "# Convert 200 minutes to hours\n",
    "minutes = 200\n",
    "hours = minutes / 60\n",
    "hours"
   ]
  },
  {
   "cell_type": "markdown",
   "id": "1f86512a-6b3d-42d7-ad52-34346621fad9",
   "metadata": {},
   "source": [
    "## Author\n",
    "# Chinyere Helen Nwankwo"
   ]
  },
  {
   "cell_type": "code",
   "execution_count": null,
   "id": "de3dbc76-1fd9-4987-82df-cb72db4e0166",
   "metadata": {},
   "outputs": [],
   "source": []
  }
 ],
 "metadata": {
  "kernelspec": {
   "display_name": "Python 3 (ipykernel)",
   "language": "python",
   "name": "python3"
  },
  "language_info": {
   "codemirror_mode": {
    "name": "ipython",
    "version": 3
   },
   "file_extension": ".py",
   "mimetype": "text/x-python",
   "name": "python",
   "nbconvert_exporter": "python",
   "pygments_lexer": "ipython3",
   "version": "3.11.5"
  }
 },
 "nbformat": 4,
 "nbformat_minor": 5
}
